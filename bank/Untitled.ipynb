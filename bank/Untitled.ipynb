{
 "cells": [
  {
   "cell_type": "code",
   "execution_count": 2,
   "metadata": {},
   "outputs": [],
   "source": [
    "import csv\n",
    "\n",
    "\n",
    "def iter_rows(filepath):\n",
    "    \"\"\" Iterate trough the rows of the file located at `filepath`. \"\"\"\n",
    "    with open(filepath) as csv_file:\n",
    "        content = csv.reader(csv_file)\n",
    "        for line in content:\n",
    "            yield line\n",
    "\n",
    "\n",
    "def get_number_of_rows(filepath):\n",
    "    \"\"\" Return the number of rows of the file located at `filepath`. \"\"\"\n",
    "    with open(filepath) as csv_file:\n",
    "        return len(list(csv.reader(csv_file))) - 1"
   ]
  },
  {
   "cell_type": "code",
   "execution_count": 10,
   "metadata": {},
   "outputs": [
    {
     "name": "stdout",
     "output_type": "stream",
     "text": [
      "('Taille train     :', 3391)\n",
      "('Taille test      :', 1130)\n",
      "('Taille initiale  :', 4521)\n",
      "('Taille reelle    :', 4521)\n"
     ]
    }
   ],
   "source": [
    "# Halfing with header\n",
    "\n",
    "print(\"Taille train     :\", get_number_of_rows(\"train.csv\"))\n",
    "print(\"Taille test      :\", get_number_of_rows(\"test.csv\"))\n",
    "print(\"Taille initiale  :\", get_number_of_rows(\"~bank.csv\"))\n",
    "print(\"Taille reelle    :\", get_number_of_rows(\"train.csv\") + get_number_of_rows(\"test.csv\"))"
   ]
  },
  {
   "cell_type": "code",
   "execution_count": 11,
   "metadata": {},
   "outputs": [
    {
     "name": "stdout",
     "output_type": "stream",
     "text": [
      "('Taille train     :', 3390)\n",
      "('Taille test      :', 1130)\n",
      "('Taille initiale  :', 4521)\n",
      "('Taille reelle    :', 4520)\n"
     ]
    }
   ],
   "source": [
    "# Halfing without header\n",
    "\n",
    "print(\"Taille train     :\", get_number_of_rows(\"train.csv\"))\n",
    "print(\"Taille test      :\", get_number_of_rows(\"test.csv\"))\n",
    "print(\"Taille initiale  :\", get_number_of_rows(\"~bank.csv\"))\n",
    "print(\"Taille reelle    :\", get_number_of_rows(\"train.csv\") + get_number_of_rows(\"test.csv\"))"
   ]
  },
  {
   "cell_type": "code",
   "execution_count": 16,
   "metadata": {},
   "outputs": [
    {
     "name": "stdout",
     "output_type": "stream",
     "text": [
      "('Taille train     :', 3390)\n",
      "('Taille test      :', 1130)\n",
      "('Taille initiale  :', 4521)\n",
      "('Taille reelle    :', 4520)\n"
     ]
    }
   ],
   "source": [
    "# Keep Distribution with header\n",
    "\n",
    "print(\"Taille train     :\", get_number_of_rows(\"train.csv\"))\n",
    "print(\"Taille test      :\", get_number_of_rows(\"test.csv\"))\n",
    "print(\"Taille initiale  :\", get_number_of_rows(\"~bank.csv\"))\n",
    "print(\"Taille reelle    :\", get_number_of_rows(\"train.csv\") + get_number_of_rows(\"test.csv\"))"
   ]
  },
  {
   "cell_type": "code",
   "execution_count": null,
   "metadata": {
    "collapsed": true
   },
   "outputs": [],
   "source": []
  }
 ],
 "metadata": {
  "kernelspec": {
   "display_name": "Python 3",
   "language": "python",
   "name": "python3"
  },
  "language_info": {
   "codemirror_mode": {
    "name": "ipython",
    "version": 2
   },
   "file_extension": ".py",
   "mimetype": "text/x-python",
   "name": "python",
   "nbconvert_exporter": "python",
   "pygments_lexer": "ipython2",
   "version": "2.7.13"
  }
 },
 "nbformat": 4,
 "nbformat_minor": 2
}
